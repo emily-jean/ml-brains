{
 "cells": [
  {
   "cell_type": "code",
   "execution_count": 8,
   "metadata": {},
   "outputs": [],
   "source": [
    "import csv\n",
    "import fileinput\n",
    "import pickle\n",
    "import os\n",
    "import time\n",
    "\n",
    "import numpy as np\n",
    "import pandas as pd\n",
    "import matplotlib.pyplot as plt\n",
    "import seaborn as sns\n",
    "\n",
    "from sklearn import datasets\n",
    "from sklearn.tree import DecisionTreeClassifier\n",
    "from sklearn.ensemble import RandomForestClassifier\n",
    "from sklearn.metrics import accuracy_score, confusion_matrix"
   ]
  },
  {
   "cell_type": "code",
   "execution_count": 9,
   "metadata": {},
   "outputs": [],
   "source": [
    "def timestamp(seconds):\n",
    "    minutes, seconds = divmod(seconds, 60)\n",
    "    hours, minutes = divmod(minutes, 60)\n",
    "    hours = int(hours)\n",
    "    minutes = int(minutes)\n",
    "    if hours:\n",
    "        return f'{hours}:{minutes}:{seconds:0.3f}'\n",
    "    elif minutes:\n",
    "        return f'{minutes}:{seconds:0.3f}'\n",
    "    else:\n",
    "        return f'{seconds:0.3f}'"
   ]
  },
  {
   "cell_type": "code",
   "execution_count": 10,
   "metadata": {},
   "outputs": [],
   "source": [
    "def load_data_dir(path):\n",
    "    data = None\n",
    "    for filename in os.listdir(path):\n",
    "        new = np.genfromtxt(os.path.join(path, filename), delimiter=',')\n",
    "        if data is None:\n",
    "            data = new\n",
    "        else:\n",
    "            data = np.concatenate((data, new))\n",
    "    return np.split(data, (-1,), axis=1)\n",
    "\n",
    "test_data, test_labels = load_data_dir('../brain-data/test')\n",
    "validation_data, validation_labels = load_data_dir('../brain-data/validation')\n",
    "train_data, train_labels = load_data_dir('../brain-data/train')"
   ]
  },
  {
   "cell_type": "code",
   "execution_count": 11,
   "metadata": {},
   "outputs": [],
   "source": [
    "def create_model(path, train_data, train_labels, *, criterion='gini', overwrite=False, n_estimators=50,\n",
    "                 max_depth=15, random_state=123456):\n",
    "    if os.path.isfile(path) and not overwrite:\n",
    "        print('loading model...')\n",
    "        with open(path, 'rb') as f:\n",
    "            rf = pickle.load(f)\n",
    "        print(f'Model loaded! Original training time {timestamp(rf.training_time)}')\n",
    "    else:\n",
    "        resp = input('type \"train\" to confirm you want to train a new model: ')\n",
    "        if resp != 'train':\n",
    "            print('training aborted')\n",
    "            return\n",
    "        else:\n",
    "            now = time.time()\n",
    "            print(f'training... {time.strftime(\"%H:%M:%S\", time.localtime())}')\n",
    "            rf = RandomForestClassifier(n_estimators=n_estimators, criterion=criterion,\n",
    "                                        max_depth=max_depth, random_state=random_state)\n",
    "            rf.fit(train_data, train_labels.ravel().astype(int))\n",
    "            rf.training_time = time.time() - now\n",
    "            print(f'trained! Elapsed time {timestamp(rf.training_time)}')\n",
    "            with open(path, 'wb') as f:\n",
    "                pickle.dump(rf, f)\n",
    "    return rf"
   ]
  },
  {
   "cell_type": "code",
   "execution_count": 38,
   "metadata": {},
   "outputs": [
    {
     "name": "stdout",
     "output_type": "stream",
     "text": [
      "loading model...\n",
      "Model loaded! Original training time 17:58.696\n",
      "loading model...\n",
      "Model loaded! Original training time 11:12.525\n"
     ]
    }
   ],
   "source": [
    "gini = create_model('../models/random_forest_classifier_gini.pickle', test_data, test_labels)\n",
    "entropy = create_model('../models/random_forest_classifier_entropy.pickle', test_data, test_labels)"
   ]
  },
  {
   "cell_type": "code",
   "execution_count": 45,
   "metadata": {},
   "outputs": [],
   "source": [
    "def measure_accuracy(model, test_data, test_labels):\n",
    "    predicted = model.predict(test_data)\n",
    "    accuracy = accuracy_score(test_labels, predicted)\n",
    "    print(f'Mean validation accuracy: {accuracy*100:.3f}%')\n",
    "    \n",
    "    target_names = ['background', 'foreground']\n",
    "    cm = pd.DataFrame(confusion_matrix(test_labels, predicted), columns=target_names,\n",
    "                      index=target_names)\n",
    "    cm = cm.apply(np.log10)\n",
    "    cm = cm / cm.values.sum()\n",
    "    ax = sns.heatmap(cm, annot=True)\n",
    "    ax.set_title('Log-Normalized Validation Accuracy')"
   ]
  },
  {
   "cell_type": "code",
   "execution_count": 57,
   "metadata": {},
   "outputs": [],
   "source": [
    "def save_prediction(model, path, validation_data):\n",
    "        predicted = model.predict(validation_data)\n",
    "        pd.DataFrame(predicted).to_csv(path, header=False, index=False)"
   ]
  },
  {
   "cell_type": "code",
   "execution_count": 59,
   "metadata": {},
   "outputs": [
    {
     "name": "stdout",
     "output_type": "stream",
     "text": [
      "Mean validation accuracy: 99.767%\n"
     ]
    },
    {
     "data": {
      "image/png": "[encoded data removed]",
      "text/plain": [
       "<Figure size 432x288 with 2 Axes>"
      ]
     },
     "metadata": {},
     "output_type": "display_data"
    }
   ],
   "source": [
    "measure_accuracy(gini, test_data, test_labels)\n",
    "save_prediction(gini, '../output/gini_predictions.csv', validation_data)"
   ]
  },
  {
   "cell_type": "code",
   "execution_count": 61,
   "metadata": {},
   "outputs": [
    {
     "name": "stdout",
     "output_type": "stream",
     "text": [
      "Mean validation accuracy: 99.768%\n"
     ]
    },
    {
     "data": {
      "image/png": "[encoded data removed]",
      "text/plain": [
       "<Figure size 432x288 with 2 Axes>"
      ]
     },
     "metadata": {},
     "output_type": "display_data"
    }
   ],
   "source": [
    "measure_accuracy(entropy, test_data, test_labels)\n",
    "save_prediction(gini, '../output/entropy_predictions.csv', validation_data)"
   ]
  },
  {
   "cell_type": "code",
   "execution_count": 13,
   "metadata": {},
   "outputs": [],
   "source": [
    "def partition_data(n, path):\n",
    "    files = [os.path.join(path, p) for p in os.listdir(path)\n",
    "             if os.path.isfile(os.path.join(path, p))]\n",
    "    #total size of dataset\n",
    "    size = 0\n",
    "    for filename in files:\n",
    "        size += os.path.getsize(filename)\n",
    "        \n",
    "    output_files = []\n",
    "    dirpath = os.path.join(path, 'partitioned')\n",
    "    with fileinput.input(files=files) as f:\n",
    "        for i in range(n):\n",
    "            data = ''\n",
    "            \n",
    "            if i < n - 1:\n",
    "                while len(data) < size / n:\n",
    "                    data += f.readline() + '\\n'\n",
    "            else:\n",
    "                for line in f:\n",
    "                    data += line + '\\n'\n",
    "            \n",
    "            outfile = os.path.join(path, f'part_{i}.pickle')\n",
    "            output_files.append(outfile)\n",
    "            ndarr = pd.read_csv(data).values\n",
    "            data, labels = np.split(ndarr, (-1,), axis=1)\n",
    "        \n",
    "            with open(outfile, 'wb') as fo:\n",
    "                pickle.dump((data, labels), fo)\n",
    "        \n",
    "    return output_files\n",
    "    \n",
    "    \n",
    "def train_large_forest(n_estimators, modelpath, datapath, *, criterion='gini', overwrite=False,\n",
    "                 max_depth=15, random_state=123456):\n",
    "    files = partition_data(n_estimators, datapath)\n",
    "    trees = []\n",
    "    for i, filename in enumerate(files):\n",
    "        with open(filename, 'rb') as f:\n",
    "            train_data, test_data = pickle.load(f)\n",
    "        dt = DecisionTreeClassifier(criterion=criterion, max_depth=max_depth,\n",
    "                                    random_state=random_state)\n",
    "        dt.fit(train_data, train_labels)\n",
    "        with open(os.path.join(modelpath, f'decision_tree_{criterion}_{i}.pickle')) as f:\n",
    "            pickle.dump(dt, f)\n",
    "        trees.append(dt)\n",
    "    \n",
    "    return rf\n",
    "\n",
    "    \n",
    "def create_large_model(path, datapath, *, criterion='gini', overwrite=False, n_estimators=50,\n",
    "                 max_depth=15, random_state=123456):\n",
    "    if os.path.isfile(path) and not overwrite:\n",
    "        print('loading model...')\n",
    "        with open(path, 'rb') as f:\n",
    "            rf = pickle.load(f)\n",
    "        print(f'Model loaded! Original training time {timestamp(rf.training_time)}')\n",
    "    else:\n",
    "        resp = input('type \"train\" to confirm you want to train a new model: ')\n",
    "        if resp != 'train':\n",
    "            print('training aborted')\n",
    "            return\n",
    "        else:\n",
    "            now = time.time()\n",
    "            print(f'training... {time.strftime(\"%H:%M:%S\", time.localtime())}')\n",
    "            \n",
    "            rf = train_large_forest(n_estimators, path, datapath, criterion=criterion,\n",
    "                    max_depth=max_depth, random_state=random_state)\n",
    "            rf.training_time = time.time() - now\n",
    "            \n",
    "            print(f'trained! Elapsed time {timestamp(rf.training_time)}')\n",
    "            with open(path, 'wb') as f:\n",
    "                pickle.dump(rf, f)\n",
    "    return rf"
   ]
  },
  {
   "cell_type": "code",
   "execution_count": null,
   "metadata": {},
   "outputs": [
    {
     "name": "stdout",
     "output_type": "stream",
     "text": [
      "type \"train\" to confirm you want to train a new model: train\n",
      "training... 23:18:14\n"
     ]
    }
   ],
   "source": [
    "entropy_full = create_large_model('../models/random_forest_classifier_full_entropy.pickle',\n",
    "                                  '../brain-data/full-train')\n",
    "measure_accuracy(entropy_full, test_data, test_labels)"
   ]
  },
  {
   "cell_type": "code",
   "execution_count": null,
   "metadata": {},
   "outputs": [],
   "source": []
  }
 ],
 "metadata": {
  "kernelspec": {
   "display_name": "Python 3",
   "language": "python",
   "name": "python3"
  },
  "language_info": {
   "codemirror_mode": {
    "name": "ipython",
    "version": 3
   },
   "file_extension": ".py",
   "mimetype": "text/x-python",
   "name": "python",
   "nbconvert_exporter": "python",
   "pygments_lexer": "ipython3",
   "version": "3.6.5"
  }
 },
 "nbformat": 4,
 "nbformat_minor": 2
}
