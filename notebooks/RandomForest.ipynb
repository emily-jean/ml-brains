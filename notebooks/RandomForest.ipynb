{
 "cells": [
  {
   "cell_type": "code",
   "execution_count": 21,
   "metadata": {},
   "outputs": [],
   "source": [
    "import csv\n",
    "import pickle\n",
    "import os\n",
    "import time\n",
    "\n",
    "import numpy as np\n",
    "import pandas as pd\n",
    "import matplotlib.pyplot as plt\n",
    "import seaborn as sns\n",
    "\n",
    "from sklearn import datasets\n",
    "from sklearn.ensemble import RandomForestClassifier\n",
    "from sklearn.metrics import accuracy_score, confusion_matrix"
   ]
  },
  {
   "cell_type": "code",
   "execution_count": 2,
   "metadata": {},
   "outputs": [],
   "source": [
    "def load_data_dir(path):\n",
    "    data = None\n",
    "    for filename in os.listdir(path):\n",
    "        new = np.genfromtxt(os.path.join(path, filename), delimiter=',')\n",
    "        if data is None:\n",
    "            data = new\n",
    "        else:\n",
    "            data = np.concatenate((data, new))\n",
    "    return np.split(data, (-1,), axis=1)\n",
    "\n",
    "test_data, test_labels = load_data_dir('../brain-data/test')\n",
    "validation_data, validation_labels = load_data_dir('../brain-data/validation')\n",
    "train_data, train_labels = load_data_dir('../brain-data/train')"
   ]
  },
  {
   "cell_type": "code",
   "execution_count": 24,
   "metadata": {},
   "outputs": [],
   "source": [
    "def create_model(path, *, criterion='gini', overwrite=False, n_estimators=50, max_depth=15, random_state=123456):\n",
    "    if os.path.isfile(path) and not overwrite:\n",
    "        print('loading model...')\n",
    "        with open(path, 'rb') as f:\n",
    "            rf = pickle.load(f)\n",
    "        print(f'Model loaded! Original training time {rf.training_time:.2f}')\n",
    "    else:\n",
    "        resp = input('type \"train\" to confirm you want to train a new model: ')\n",
    "        if resp != 'train':\n",
    "            print('training aborted')\n",
    "            return\n",
    "        else:\n",
    "            print('training...')\n",
    "            rf = RandomForestClassifier(n_estimators=n_estimators, criterion=criterion,\n",
    "                                        max_depth=max_depth, random_state=random_state)\n",
    "            now = time.time()\n",
    "            rf.fit(train_data, train_labels.ravel().astype(int))\n",
    "            rf.training_time = time.time() - now\n",
    "            print(f'trained! Elapsed time {rf.training_time:.2f}')\n",
    "            with open(path, 'wb') as f:\n",
    "                pickle.dump(rf, f)\n",
    "    return rf"
   ]
  },
  {
   "cell_type": "code",
   "execution_count": 26,
   "metadata": {},
   "outputs": [
    {
     "name": "stdout",
     "output_type": "stream",
     "text": [
      "loading model...\n",
      "Model loaded! Original training time 1078.70\n",
      "loading model...\n",
      "Model loaded! Original training time 672.53\n"
     ]
    }
   ],
   "source": [
    "gini = create_model('../models/random_forest_classifier_gini.pickle')\n",
    "entropy = create_model('../models/random_forest_classifier_entropy.pickle')"
   ]
  },
  {
   "cell_type": "code",
   "execution_count": 45,
   "metadata": {},
   "outputs": [],
   "source": [
    "def measure_accuracy(model, test_data, test_labels):\n",
    "    predicted = model.predict(test_data)\n",
    "    accuracy = accuracy_score(test_labels, predicted)\n",
    "    print(f'Mean accuracy score: {accuracy*100:.3f}%')\n",
    "    \n",
    "    target_names = ['background', 'foreground']\n",
    "    cm = pd.DataFrame(confusion_matrix(test_labels, predicted), columns=target_names, index=target_names)\n",
    "    cm = cm.apply(np.log10)\n",
    "    cm = cm / cm.values.sum()\n",
    "    ax = sns.heatmap(cm, annot=True)\n",
    "    ax.set_title('Log-Normalized Accuracy')"
   ]
  },
  {
   "cell_type": "code",
   "execution_count": 46,
   "metadata": {},
   "outputs": [
    {
     "name": "stdout",
     "output_type": "stream",
     "text": [
      "Mean accuracy score: 99.767%\n"
     ]
    },
    {
     "data": {
      "image/png": "[encoded data removed]",
      "text/plain": [
       "<Figure size 432x288 with 2 Axes>"
      ]
     },
     "metadata": {},
     "output_type": "display_data"
    }
   ],
   "source": [
    "measure_accuracy(gini, test_data, test_labels)"
   ]
  },
  {
   "cell_type": "code",
   "execution_count": 47,
   "metadata": {},
   "outputs": [
    {
     "name": "stdout",
     "output_type": "stream",
     "text": [
      "Mean accuracy score: 99.768%\n"
     ]
    },
    {
     "data": {
      "image/png": "[encoded data removed]",
      "text/plain": [
       "<Figure size 432x288 with 2 Axes>"
      ]
     },
     "metadata": {},
     "output_type": "display_data"
    }
   ],
   "source": [
    "measure_accuracy(entropy, test_data, test_labels)"
   ]
  }
 ],
 "metadata": {
  "kernelspec": {
   "display_name": "Python 3",
   "language": "python",
   "name": "python3"
  },
  "language_info": {
   "codemirror_mode": {
    "name": "ipython",
    "version": 3
   },
   "file_extension": ".py",
   "mimetype": "text/x-python",
   "name": "python",
   "nbconvert_exporter": "python",
   "pygments_lexer": "ipython3",
   "version": "3.6.5"
  }
 },
 "nbformat": 4,
 "nbformat_minor": 2
}
